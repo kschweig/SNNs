{
 "cells": [
  {
   "cell_type": "markdown",
   "metadata": {
    "collapsed": false
   },
   "source": [
    "# Tutorial on self-normalizing networks on the MNIST data set: convolutional neural networks\n",
    "\n",
    "*Author:* Guenter Klambauer, 2017\n",
    "\n",
    "Derived from: [Aymeric Damien](https://github.com/aymericdamien/TensorFlow-Examples/) "
   ]
  },
  {
   "cell_type": "code",
   "execution_count": 1,
   "metadata": {
    "collapsed": false
   },
   "outputs": [
    {
     "name": "stdout",
     "output_type": "stream",
     "text": [
      "WARNING:tensorflow:From <ipython-input-1-f7315b4644ea>:17: read_data_sets (from tensorflow.contrib.learn.python.learn.datasets.mnist) is deprecated and will be removed in a future version.\n",
      "Instructions for updating:\n",
      "Please use alternatives such as official/mnist/dataset.py from tensorflow/models.\n",
      "WARNING:tensorflow:From /home/kai/miniconda3/envs/snn_tf1_compat/lib/python3.7/site-packages/tensorflow_core/contrib/learn/python/learn/datasets/mnist.py:260: maybe_download (from tensorflow.contrib.learn.python.learn.datasets.base) is deprecated and will be removed in a future version.\n",
      "Instructions for updating:\n",
      "Please write your own downloading logic.\n",
      "WARNING:tensorflow:From /home/kai/miniconda3/envs/snn_tf1_compat/lib/python3.7/site-packages/tensorflow_core/contrib/learn/python/learn/datasets/mnist.py:262: extract_images (from tensorflow.contrib.learn.python.learn.datasets.mnist) is deprecated and will be removed in a future version.\n",
      "Instructions for updating:\n",
      "Please use tf.data to implement this functionality.\n",
      "Extracting /tmp/data/train-images-idx3-ubyte.gz\n",
      "WARNING:tensorflow:From /home/kai/miniconda3/envs/snn_tf1_compat/lib/python3.7/site-packages/tensorflow_core/contrib/learn/python/learn/datasets/mnist.py:267: extract_labels (from tensorflow.contrib.learn.python.learn.datasets.mnist) is deprecated and will be removed in a future version.\n",
      "Instructions for updating:\n",
      "Please use tf.data to implement this functionality.\n",
      "Extracting /tmp/data/train-labels-idx1-ubyte.gz\n",
      "WARNING:tensorflow:From /home/kai/miniconda3/envs/snn_tf1_compat/lib/python3.7/site-packages/tensorflow_core/contrib/learn/python/learn/datasets/mnist.py:110: dense_to_one_hot (from tensorflow.contrib.learn.python.learn.datasets.mnist) is deprecated and will be removed in a future version.\n",
      "Instructions for updating:\n",
      "Please use tf.one_hot on tensors.\n",
      "Extracting /tmp/data/t10k-images-idx3-ubyte.gz\n",
      "Extracting /tmp/data/t10k-labels-idx1-ubyte.gz\n",
      "WARNING:tensorflow:From /home/kai/miniconda3/envs/snn_tf1_compat/lib/python3.7/site-packages/tensorflow_core/contrib/learn/python/learn/datasets/mnist.py:290: DataSet.__init__ (from tensorflow.contrib.learn.python.learn.datasets.mnist) is deprecated and will be removed in a future version.\n",
      "Instructions for updating:\n",
      "Please use alternatives such as official/mnist/dataset.py from tensorflow/models.\n",
      "1.15.0\n"
     ]
    }
   ],
   "source": [
    "import tensorflow as tf\n",
    "import numpy as np\n",
    "\n",
    "import numbers\n",
    "from tensorflow.python.framework import ops\n",
    "from tensorflow.python.framework import tensor_shape\n",
    "from tensorflow.python.framework import tensor_util\n",
    "from tensorflow.python.ops import math_ops\n",
    "from tensorflow.python.ops import random_ops\n",
    "from tensorflow.python.ops import array_ops\n",
    "from tensorflow.python.layers import utils\n",
    "\n",
    "from sklearn.preprocessing import StandardScaler\n",
    "\n",
    "# Import MNIST data\n",
    "from tensorflow.examples.tutorials.mnist import input_data\n",
    "mnist = input_data.read_data_sets(\"/tmp/data/\", one_hot=True)\n",
    "\n",
    "print(tf.__version__)"
   ]
  },
  {
   "cell_type": "markdown",
   "metadata": {},
   "source": [
    "### (1) Definition of scaled exponential linear units (SELUs)"
   ]
  },
  {
   "cell_type": "code",
   "execution_count": 2,
   "metadata": {
    "collapsed": true
   },
   "outputs": [],
   "source": [
    "def selu(x):\n",
    "    with ops.name_scope('elu') as scope:\n",
    "        alpha = 1.6732632423543772848170429916717\n",
    "        scale = 1.0507009873554804934193349852946\n",
    "        return scale*tf.where(x>=0.0, x, alpha*tf.nn.elu(x))"
   ]
  },
  {
   "cell_type": "markdown",
   "metadata": {},
   "source": [
    "### (2) Definition of dropout variant for SNNs\n"
   ]
  },
  {
   "cell_type": "code",
   "execution_count": 3,
   "metadata": {
    "collapsed": true
   },
   "outputs": [],
   "source": [
    "def dropout_selu(x, rate, alpha= -1.7580993408473766, fixedPointMean=0.0, fixedPointVar=1.0, \n",
    "                 noise_shape=None, seed=None, name=None, training=False):\n",
    "    \"\"\"Dropout to a value with rescaling.\"\"\"\n",
    "\n",
    "    def dropout_selu_impl(x, rate, alpha, noise_shape, seed, name):\n",
    "        keep_prob = 1.0 - rate\n",
    "        x = ops.convert_to_tensor(x, name=\"x\")\n",
    "        if isinstance(keep_prob, numbers.Real) and not 0 < keep_prob <= 1:\n",
    "            raise ValueError(\"keep_prob must be a scalar tensor or a float in the \"\n",
    "                                             \"range (0, 1], got %g\" % keep_prob)\n",
    "        keep_prob = ops.convert_to_tensor(keep_prob, dtype=x.dtype, name=\"keep_prob\")\n",
    "        keep_prob.get_shape().assert_is_compatible_with(tensor_shape.scalar())\n",
    "\n",
    "        alpha = ops.convert_to_tensor(alpha, dtype=x.dtype, name=\"alpha\")\n",
    "        keep_prob.get_shape().assert_is_compatible_with(tensor_shape.scalar())\n",
    "\n",
    "        if tensor_util.constant_value(keep_prob) == 1:\n",
    "            return x\n",
    "\n",
    "        noise_shape = noise_shape if noise_shape is not None else array_ops.shape(x)\n",
    "        random_tensor = keep_prob\n",
    "        random_tensor += random_ops.random_uniform(noise_shape, seed=seed, dtype=x.dtype)\n",
    "        binary_tensor = math_ops.floor(random_tensor)\n",
    "        ret = x * binary_tensor + alpha * (1-binary_tensor)\n",
    "\n",
    "        a = tf.sqrt(fixedPointVar / (keep_prob *((1-keep_prob) * tf.pow(alpha-fixedPointMean,2) + fixedPointVar)))\n",
    "\n",
    "        b = fixedPointMean - a * (keep_prob * fixedPointMean + (1 - keep_prob) * alpha)\n",
    "        ret = a * ret + b\n",
    "        ret.set_shape(x.get_shape())\n",
    "        return ret\n",
    "\n",
    "    with ops.name_scope(name, \"dropout\", [x]) as name:\n",
    "        return utils.smart_cond(training,\n",
    "            lambda: dropout_selu_impl(x, rate, alpha, noise_shape, seed, name),\n",
    "            lambda: array_ops.identity(x))\n"
   ]
  },
  {
   "cell_type": "markdown",
   "metadata": {},
   "source": [
    "### (3) Scale input to zero mean and unit variance"
   ]
  },
  {
   "cell_type": "code",
   "execution_count": 4,
   "metadata": {
    "collapsed": false
   },
   "outputs": [],
   "source": [
    "scaler = StandardScaler().fit(mnist.train.images)"
   ]
  },
  {
   "cell_type": "code",
   "execution_count": 5,
   "metadata": {
    "collapsed": true
   },
   "outputs": [],
   "source": [
    "# Parameters\n",
    "learning_rate = 0.025\n",
    "training_iters = 50\n",
    "batch_size = 128\n",
    "display_step = 1\n",
    "\n",
    "# Network Parameters\n",
    "n_input = 784 # MNIST data input (img shape: 28*28)\n",
    "n_classes = 10 # MNIST total classes (0-9 digits)\n",
    "keep_prob_ReLU = 0.5 # Dropout, probability to keep units\n",
    "dropout_prob_SNN = 0.05 # Dropout, probability to dropout units\n",
    "\n",
    "# tf Graph input\n",
    "x = tf.placeholder(tf.float32, [None, n_input])\n",
    "y = tf.placeholder(tf.float32, [None, n_classes])\n",
    "keep_prob = tf.placeholder(tf.float32) #dropout (keep probability for ReLU)\n",
    "dropout_prob =  tf.placeholder(tf.float32) #dropout (dropout probability for SNN)\n",
    "is_training = tf.placeholder(tf.bool)"
   ]
  },
  {
   "cell_type": "code",
   "execution_count": 6,
   "metadata": {
    "collapsed": true
   },
   "outputs": [],
   "source": [
    "# Create some wrappers for simplicity\n",
    "def conv2d(x, W, b, strides=1):\n",
    "    # Conv2D wrapper, with bias and relu activation\n",
    "    x = tf.nn.conv2d(x, W, strides=[1, strides, strides, 1], padding='SAME')\n",
    "    x = tf.nn.bias_add(x, b)\n",
    "    return tf.nn.relu(x)\n",
    "\n",
    "def conv2d_SNN(x, W, b, strides=1):\n",
    "    # Conv2D wrapper, with bias and relu activation\n",
    "    x = tf.nn.conv2d(x, W, strides=[1, strides, strides, 1], padding='SAME')\n",
    "    x = tf.nn.bias_add(x, b)\n",
    "    return selu(x)\n",
    "\n",
    "def maxpool2d(x, k=2):\n",
    "    # MaxPool2D wrapper\n",
    "    return tf.nn.max_pool(x, ksize=[1, k, k, 1], strides=[1, k, k, 1],\n",
    "                          padding='SAME')"
   ]
  },
  {
   "cell_type": "code",
   "execution_count": 7,
   "metadata": {
    "collapsed": true
   },
   "outputs": [],
   "source": [
    "# Create model\n",
    "def conv_net_ReLU(x, weights, biases, keep_prob):\n",
    "    # Reshape input picture\n",
    "    x = tf.reshape(x, shape=[-1, 28, 28, 1])\n",
    "\n",
    "    # Convolution Layer\n",
    "    conv1 = conv2d(x, weights['wc1'], biases['bc1'])\n",
    "    # Max Pooling (down-sampling)\n",
    "    conv1 = maxpool2d(conv1, k=2)\n",
    "\n",
    "    # Convolution Layer\n",
    "    conv2 = conv2d(conv1, weights['wc2'], biases['bc2'])\n",
    "    # Max Pooling (down-sampling)\n",
    "    conv2 = maxpool2d(conv2, k=2)\n",
    "\n",
    "    # Fully connected layer\n",
    "    # Reshape conv2 output to fit fully connected layer input\n",
    "    fc1 = tf.reshape(conv2, [-1, weights['wd1'].get_shape().as_list()[0]])\n",
    "    fc1 = tf.add(tf.matmul(fc1, weights['wd1']), biases['bd1'])\n",
    "    fc1 = tf.nn.relu(fc1)\n",
    "    \n",
    "    # Apply Dropout\n",
    "    fc1 = tf.nn.dropout(fc1, keep_prob)\n",
    "\n",
    "    # Output, class prediction\n",
    "    out = tf.add(tf.matmul(fc1, weights['out']), biases['out'])\n",
    "    return out"
   ]
  },
  {
   "cell_type": "code",
   "execution_count": 8,
   "metadata": {
    "collapsed": true
   },
   "outputs": [],
   "source": [
    "# Create model\n",
    "def conv_net_SNN(x, weights, biases, dropout_prob, is_training):\n",
    "    # Reshape input picture\n",
    "    x = tf.reshape(x, shape=[-1, 28, 28, 1])\n",
    "\n",
    "    # Convolution Layer\n",
    "    conv1 = conv2d_SNN(x, weights['wc1'], biases['bc1'],)\n",
    "    # Max Pooling (down-sampling)\n",
    "    conv1 = maxpool2d(conv1, k=2)\n",
    "\n",
    "    # Convolution Layer\n",
    "    conv2 = conv2d_SNN(conv1, weights['wc2'], biases['bc2'])\n",
    "    # Max Pooling (down-sampling)\n",
    "    conv2 = maxpool2d(conv2, k=2)\n",
    "\n",
    "    # Fully connected layer\n",
    "    # Reshape conv2 output to fit fully connected layer input\n",
    "    fc1 = tf.reshape(conv2, [-1, weights['wd1'].get_shape().as_list()[0]])\n",
    "    fc1 = tf.add(tf.matmul(fc1, weights['wd1']), biases['bd1'])\n",
    "    fc1 = selu(fc1)\n",
    "    \n",
    "    # Apply Dropout\n",
    "    fc1 = dropout_selu(fc1, dropout_prob,training=is_training)\n",
    "\n",
    "    # Output, class prediction\n",
    "    out = tf.add(tf.matmul(fc1, weights['out']), biases['out'])\n",
    "    return out"
   ]
  },
  {
   "cell_type": "code",
   "execution_count": 9,
   "metadata": {
    "collapsed": true
   },
   "outputs": [],
   "source": [
    "# RELU: Store layers weight & bias\n",
    "## Improved with MSRA initialization\n",
    "\n",
    "weights = {\n",
    "    # 5x5 conv, 1 input, 32 outputs\n",
    "    'wc1': tf.Variable(tf.random_normal([5, 5, 1, 32],stddev=np.sqrt(2/25)) ),\n",
    "    # 5x5 conv, 32 inputs, 64 outputs\n",
    "    'wc2': tf.Variable(tf.random_normal([5, 5, 32, 64],stddev=np.sqrt(2/(25*32)))),\n",
    "    # fully connected, 7*7*64 inputs, 1024 outputs\n",
    "    'wd1': tf.Variable(tf.random_normal([7*7*64, 1024],stddev=np.sqrt(2/(7*7*64)))),\n",
    "    # 1024 inputs, 10 outputs (class prediction)\n",
    "    'out': tf.Variable(tf.random_normal([1024, n_classes],stddev=np.sqrt(2/(1024))))\n",
    "}\n",
    "\n",
    "biases = {\n",
    "    'bc1': tf.Variable(tf.random_normal([32],stddev=0)),\n",
    "    'bc2': tf.Variable(tf.random_normal([64],stddev=0)),\n",
    "    'bd1': tf.Variable(tf.random_normal([1024],stddev=0)),\n",
    "    'out': tf.Variable(tf.random_normal([n_classes],stddev=0))\n",
    "}"
   ]
  },
  {
   "cell_type": "markdown",
   "metadata": {},
   "source": [
    "### (4) Initialization with STDDEV of sqrt(1/n)"
   ]
  },
  {
   "cell_type": "code",
   "execution_count": 10,
   "metadata": {
    "collapsed": false
   },
   "outputs": [],
   "source": [
    "# SNN: Store layers weight & bias\n",
    "weights2 = {\n",
    "    # 5x5 conv, 1 input, 32 outputs\n",
    "    'wc1': tf.Variable(tf.random_normal([5, 5, 1, 32],stddev=np.sqrt(1/25)) ),\n",
    "    # 5x5 conv, 32 inputs, 64 outputs\n",
    "    'wc2': tf.Variable(tf.random_normal([5, 5, 32, 64],stddev=np.sqrt(1/(25*32)))),\n",
    "    # fully connected, 7*7*64 inputs, 1024 outputs\n",
    "    'wd1': tf.Variable(tf.random_normal([7*7*64, 1024],stddev=np.sqrt(1/(7*7*64)))),\n",
    "    # 1024 inputs, 10 outputs (class prediction)\n",
    "    'out': tf.Variable(tf.random_normal([1024, n_classes],stddev=np.sqrt(1/(1024))))\n",
    "}\n",
    "\n",
    "biases2 = {\n",
    "    'bc1': tf.Variable(tf.random_normal([32],stddev=0)),\n",
    "    'bc2': tf.Variable(tf.random_normal([64],stddev=0)),\n",
    "    'bd1': tf.Variable(tf.random_normal([1024],stddev=0)),\n",
    "    'out': tf.Variable(tf.random_normal([n_classes],stddev=0))\n",
    "}\n"
   ]
  },
  {
   "cell_type": "code",
   "execution_count": 11,
   "metadata": {
    "collapsed": false
   },
   "outputs": [
    {
     "name": "stdout",
     "output_type": "stream",
     "text": [
      "WARNING:tensorflow:From <ipython-input-7-8c4c5b6016f3>:23: calling dropout (from tensorflow.python.ops.nn_ops) with keep_prob is deprecated and will be removed in a future version.\n",
      "Instructions for updating:\n",
      "Please use `rate` instead of `keep_prob`. Rate should be set to `rate = 1 - keep_prob`.\n",
      "WARNING:tensorflow:From <ipython-input-2-9c56e27e3d92>:5: where (from tensorflow.python.ops.array_ops) is deprecated and will be removed in a future version.\n",
      "Instructions for updating:\n",
      "Use tf.where in 2.0, which has the same broadcast rule as np.where\n",
      "WARNING:tensorflow:From <ipython-input-3-829569ce6bf2>:12: scalar (from tensorflow.python.framework.tensor_shape) is deprecated and will be removed in a future version.\n",
      "Instructions for updating:\n",
      "Use tf.TensorShape([]).\n",
      "WARNING:tensorflow:From <ipython-input-11-70217e69e778>:6: softmax_cross_entropy_with_logits (from tensorflow.python.ops.nn_ops) is deprecated and will be removed in a future version.\n",
      "Instructions for updating:\n",
      "\n",
      "Future major versions of TensorFlow will allow gradients to flow\n",
      "into the labels input on backprop by default.\n",
      "\n",
      "See `tf.nn.softmax_cross_entropy_with_logits_v2`.\n",
      "\n"
     ]
    }
   ],
   "source": [
    "# Construct model\n",
    "pred_ReLU = conv_net_ReLU(x, weights, biases, keep_prob)\n",
    "pred_SNN = conv_net_SNN(x, weights2, biases2, dropout_prob,is_training)\n",
    "\n",
    "# Define loss and optimizer\n",
    "cost_ReLU = tf.reduce_mean(tf.nn.softmax_cross_entropy_with_logits(logits=pred_ReLU, labels=y))\n",
    "cost_SNN = tf.reduce_mean(tf.nn.softmax_cross_entropy_with_logits(logits=pred_SNN, labels=y))\n",
    "\n",
    "optimizer_ReLU = tf.train.GradientDescentOptimizer(learning_rate=learning_rate).minimize(cost_ReLU)\n",
    "optimizer_SNN = tf.train.GradientDescentOptimizer(learning_rate=learning_rate).minimize(cost_SNN)\n",
    "\n",
    "# Evaluate ReLU model\n",
    "correct_pred_ReLU = tf.equal(tf.argmax(pred_ReLU, 1), tf.argmax(y, 1))\n",
    "accuracy_ReLU = tf.reduce_mean(tf.cast(correct_pred_ReLU, tf.float32))\n",
    "\n",
    "# Evaluate SNN model\n",
    "correct_pred_SNN = tf.equal(tf.argmax(pred_SNN, 1), tf.argmax(y, 1))\n",
    "accuracy_SNN = tf.reduce_mean(tf.cast(correct_pred_SNN, tf.float32))\n",
    "\n",
    "\n",
    "# Initializing the variables\n",
    "init = tf.global_variables_initializer()"
   ]
  },
  {
   "cell_type": "code",
   "execution_count": 12,
   "metadata": {
    "collapsed": true
   },
   "outputs": [],
   "source": [
    "training_loss_protocol_ReLU = []\n",
    "training_loss_protocol_SNN = []"
   ]
  },
  {
   "cell_type": "code",
   "execution_count": 13,
   "metadata": {
    "collapsed": false
   },
   "outputs": [
    {
     "name": "stdout",
     "output_type": "stream",
     "text": [
      "RELU: Nbr of updates: 1, Minibatch Loss= 2.529600, Training Accuracy= 0.14062\n",
      "SNN: Nbr of updates: 1, Minibatch Loss= 2.043923, Training Accuracy= 0.51562\n",
      "RELU: Nbr of updates: 2, Minibatch Loss= 2.308014, Training Accuracy= 0.26562\n",
      "SNN: Nbr of updates: 2, Minibatch Loss= 1.727961, Training Accuracy= 0.51562\n",
      "RELU: Nbr of updates: 3, Minibatch Loss= 2.068156, Training Accuracy= 0.38281\n",
      "SNN: Nbr of updates: 3, Minibatch Loss= 1.357726, Training Accuracy= 0.64844\n",
      "RELU: Nbr of updates: 4, Minibatch Loss= 1.670266, Training Accuracy= 0.62500\n",
      "SNN: Nbr of updates: 4, Minibatch Loss= 0.805312, Training Accuracy= 0.77344\n",
      "RELU: Nbr of updates: 5, Minibatch Loss= 1.599183, Training Accuracy= 0.67969\n",
      "SNN: Nbr of updates: 5, Minibatch Loss= 0.634932, Training Accuracy= 0.85156\n",
      "RELU: Nbr of updates: 6, Minibatch Loss= 1.444664, Training Accuracy= 0.71094\n",
      "SNN: Nbr of updates: 6, Minibatch Loss= 0.472679, Training Accuracy= 0.85156\n",
      "RELU: Nbr of updates: 7, Minibatch Loss= 1.424880, Training Accuracy= 0.75000\n",
      "SNN: Nbr of updates: 7, Minibatch Loss= 0.443895, Training Accuracy= 0.86719\n",
      "RELU: Nbr of updates: 8, Minibatch Loss= 1.238384, Training Accuracy= 0.70312\n",
      "SNN: Nbr of updates: 8, Minibatch Loss= 0.433366, Training Accuracy= 0.87500\n",
      "RELU: Nbr of updates: 9, Minibatch Loss= 1.223281, Training Accuracy= 0.74219\n",
      "SNN: Nbr of updates: 9, Minibatch Loss= 0.446125, Training Accuracy= 0.91406\n",
      "RELU: Nbr of updates: 10, Minibatch Loss= 1.126184, Training Accuracy= 0.82812\n",
      "SNN: Nbr of updates: 10, Minibatch Loss= 0.353353, Training Accuracy= 0.92188\n",
      "RELU: Nbr of updates: 11, Minibatch Loss= 0.945392, Training Accuracy= 0.83594\n",
      "SNN: Nbr of updates: 11, Minibatch Loss= 0.323721, Training Accuracy= 0.91406\n",
      "RELU: Nbr of updates: 12, Minibatch Loss= 1.061059, Training Accuracy= 0.72656\n",
      "SNN: Nbr of updates: 12, Minibatch Loss= 0.319183, Training Accuracy= 0.91406\n",
      "RELU: Nbr of updates: 13, Minibatch Loss= 1.053779, Training Accuracy= 0.71094\n",
      "SNN: Nbr of updates: 13, Minibatch Loss= 0.341918, Training Accuracy= 0.90625\n",
      "RELU: Nbr of updates: 14, Minibatch Loss= 0.861647, Training Accuracy= 0.82031\n",
      "SNN: Nbr of updates: 14, Minibatch Loss= 0.247850, Training Accuracy= 0.94531\n",
      "RELU: Nbr of updates: 15, Minibatch Loss= 0.859886, Training Accuracy= 0.85938\n",
      "SNN: Nbr of updates: 15, Minibatch Loss= 0.300610, Training Accuracy= 0.91406\n",
      "RELU: Nbr of updates: 16, Minibatch Loss= 0.803375, Training Accuracy= 0.82031\n",
      "SNN: Nbr of updates: 16, Minibatch Loss= 0.233539, Training Accuracy= 0.96094\n",
      "RELU: Nbr of updates: 17, Minibatch Loss= 0.770378, Training Accuracy= 0.85156\n",
      "SNN: Nbr of updates: 17, Minibatch Loss= 0.292139, Training Accuracy= 0.90625\n",
      "RELU: Nbr of updates: 18, Minibatch Loss= 0.703464, Training Accuracy= 0.81250\n",
      "SNN: Nbr of updates: 18, Minibatch Loss= 0.214945, Training Accuracy= 0.96094\n",
      "RELU: Nbr of updates: 19, Minibatch Loss= 0.667796, Training Accuracy= 0.90625\n",
      "SNN: Nbr of updates: 19, Minibatch Loss= 0.267386, Training Accuracy= 0.92969\n",
      "RELU: Nbr of updates: 20, Minibatch Loss= 0.739539, Training Accuracy= 0.82812\n",
      "SNN: Nbr of updates: 20, Minibatch Loss= 0.301252, Training Accuracy= 0.92188\n",
      "RELU: Nbr of updates: 21, Minibatch Loss= 0.712775, Training Accuracy= 0.82031\n",
      "SNN: Nbr of updates: 21, Minibatch Loss= 0.229995, Training Accuracy= 0.94531\n",
      "RELU: Nbr of updates: 22, Minibatch Loss= 0.668107, Training Accuracy= 0.83594\n",
      "SNN: Nbr of updates: 22, Minibatch Loss= 0.302777, Training Accuracy= 0.92188\n",
      "RELU: Nbr of updates: 23, Minibatch Loss= 0.662650, Training Accuracy= 0.80469\n",
      "SNN: Nbr of updates: 23, Minibatch Loss= 0.277247, Training Accuracy= 0.91406\n",
      "RELU: Nbr of updates: 24, Minibatch Loss= 0.751235, Training Accuracy= 0.82031\n",
      "SNN: Nbr of updates: 24, Minibatch Loss= 0.312389, Training Accuracy= 0.89844\n",
      "RELU: Nbr of updates: 25, Minibatch Loss= 0.610983, Training Accuracy= 0.85938\n",
      "SNN: Nbr of updates: 25, Minibatch Loss= 0.230509, Training Accuracy= 0.93750\n",
      "RELU: Nbr of updates: 26, Minibatch Loss= 0.598711, Training Accuracy= 0.85156\n",
      "SNN: Nbr of updates: 26, Minibatch Loss= 0.257897, Training Accuracy= 0.92969\n",
      "RELU: Nbr of updates: 27, Minibatch Loss= 0.649527, Training Accuracy= 0.82031\n",
      "SNN: Nbr of updates: 27, Minibatch Loss= 0.225033, Training Accuracy= 0.92969\n",
      "RELU: Nbr of updates: 28, Minibatch Loss= 0.513970, Training Accuracy= 0.92188\n",
      "SNN: Nbr of updates: 28, Minibatch Loss= 0.170374, Training Accuracy= 0.94531\n",
      "RELU: Nbr of updates: 29, Minibatch Loss= 0.548257, Training Accuracy= 0.83594\n",
      "SNN: Nbr of updates: 29, Minibatch Loss= 0.211176, Training Accuracy= 0.92188\n",
      "RELU: Nbr of updates: 30, Minibatch Loss= 0.541867, Training Accuracy= 0.88281\n",
      "SNN: Nbr of updates: 30, Minibatch Loss= 0.221660, Training Accuracy= 0.96094\n",
      "RELU: Nbr of updates: 31, Minibatch Loss= 0.485644, Training Accuracy= 0.89844\n",
      "SNN: Nbr of updates: 31, Minibatch Loss= 0.212724, Training Accuracy= 0.92188\n",
      "RELU: Nbr of updates: 32, Minibatch Loss= 0.450281, Training Accuracy= 0.85938\n",
      "SNN: Nbr of updates: 32, Minibatch Loss= 0.169182, Training Accuracy= 0.96094\n",
      "RELU: Nbr of updates: 33, Minibatch Loss= 0.633430, Training Accuracy= 0.75000\n",
      "SNN: Nbr of updates: 33, Minibatch Loss= 0.212616, Training Accuracy= 0.96875\n",
      "RELU: Nbr of updates: 34, Minibatch Loss= 0.477125, Training Accuracy= 0.89062\n",
      "SNN: Nbr of updates: 34, Minibatch Loss= 0.202256, Training Accuracy= 0.96094\n",
      "RELU: Nbr of updates: 35, Minibatch Loss= 0.549391, Training Accuracy= 0.82812\n",
      "SNN: Nbr of updates: 35, Minibatch Loss= 0.310254, Training Accuracy= 0.89844\n",
      "RELU: Nbr of updates: 36, Minibatch Loss= 0.368259, Training Accuracy= 0.90625\n",
      "SNN: Nbr of updates: 36, Minibatch Loss= 0.153444, Training Accuracy= 0.93750\n",
      "RELU: Nbr of updates: 37, Minibatch Loss= 0.492477, Training Accuracy= 0.86719\n",
      "SNN: Nbr of updates: 37, Minibatch Loss= 0.211344, Training Accuracy= 0.93750\n",
      "RELU: Nbr of updates: 38, Minibatch Loss= 0.556713, Training Accuracy= 0.87500\n",
      "SNN: Nbr of updates: 38, Minibatch Loss= 0.203756, Training Accuracy= 0.95312\n",
      "RELU: Nbr of updates: 39, Minibatch Loss= 0.442008, Training Accuracy= 0.88281\n",
      "SNN: Nbr of updates: 39, Minibatch Loss= 0.194691, Training Accuracy= 0.94531\n",
      "RELU: Nbr of updates: 40, Minibatch Loss= 0.427592, Training Accuracy= 0.90625\n",
      "SNN: Nbr of updates: 40, Minibatch Loss= 0.226508, Training Accuracy= 0.91406\n",
      "RELU: Nbr of updates: 41, Minibatch Loss= 0.598306, Training Accuracy= 0.82812\n",
      "SNN: Nbr of updates: 41, Minibatch Loss= 0.207904, Training Accuracy= 0.93750\n",
      "RELU: Nbr of updates: 42, Minibatch Loss= 0.551276, Training Accuracy= 0.85938\n",
      "SNN: Nbr of updates: 42, Minibatch Loss= 0.198079, Training Accuracy= 0.94531\n",
      "RELU: Nbr of updates: 43, Minibatch Loss= 0.404157, Training Accuracy= 0.89844\n",
      "SNN: Nbr of updates: 43, Minibatch Loss= 0.127414, Training Accuracy= 0.98438\n",
      "RELU: Nbr of updates: 44, Minibatch Loss= 0.368151, Training Accuracy= 0.93750\n",
      "SNN: Nbr of updates: 44, Minibatch Loss= 0.153246, Training Accuracy= 0.96875\n",
      "RELU: Nbr of updates: 45, Minibatch Loss= 0.461047, Training Accuracy= 0.88281\n",
      "SNN: Nbr of updates: 45, Minibatch Loss= 0.242575, Training Accuracy= 0.92969\n",
      "RELU: Nbr of updates: 46, Minibatch Loss= 0.456105, Training Accuracy= 0.89844\n",
      "SNN: Nbr of updates: 46, Minibatch Loss= 0.231932, Training Accuracy= 0.93750\n",
      "RELU: Nbr of updates: 47, Minibatch Loss= 0.414762, Training Accuracy= 0.89062\n",
      "SNN: Nbr of updates: 47, Minibatch Loss= 0.234552, Training Accuracy= 0.95312\n",
      "RELU: Nbr of updates: 48, Minibatch Loss= 0.371672, Training Accuracy= 0.90625\n",
      "SNN: Nbr of updates: 48, Minibatch Loss= 0.172536, Training Accuracy= 0.96094\n",
      "RELU: Nbr of updates: 49, Minibatch Loss= 0.396432, Training Accuracy= 0.91406\n",
      "SNN: Nbr of updates: 49, Minibatch Loss= 0.162846, Training Accuracy= 0.95312\n",
      "RELU: Nbr of updates: 50, Minibatch Loss= 0.281247, Training Accuracy= 0.96875\n",
      "SNN: Nbr of updates: 50, Minibatch Loss= 0.125570, Training Accuracy= 0.97656\n",
      "Optimization Finished!\n",
      "\n",
      "ReLU: Testing Accuracy: 0.8339844\n",
      "SNN: Testing Accuracy: 0.9140625\n"
     ]
    }
   ],
   "source": [
    "# Launch the graph\n",
    "gpu_options = tf.GPUOptions(allow_growth=True)\n",
    "with tf.Session(config=tf.ConfigProto(gpu_options=gpu_options)) as sess:\n",
    "    sess.run(init)\n",
    "    step = 0\n",
    "    # Keep training until reach max iterations\n",
    "    while step < training_iters:\n",
    "        batch_x, batch_y = mnist.train.next_batch(batch_size)\n",
    "        batch_x_norm = scaler.transform(batch_x)\n",
    "        # Run optimization op (backprop)\n",
    "        sess.run(optimizer_ReLU, feed_dict={x: batch_x, y: batch_y,\n",
    "                                       keep_prob: keep_prob_ReLU})\n",
    "        sess.run(optimizer_SNN, feed_dict={x: batch_x_norm, y: batch_y,\n",
    "                                       dropout_prob: dropout_prob_SNN,is_training:True})\n",
    "        \n",
    "        \n",
    "        if step % display_step == 0:\n",
    "            #batch_x, batch_y = mnist.test.next_batch(batch_size)\n",
    "            #batch_x_norm = scaler.transform(batch_x)\n",
    "            # Calculate batch loss and accuracy\n",
    "            loss_ReLU, acc_ReLU = sess.run([cost_ReLU, accuracy_ReLU], feed_dict={x: batch_x,\n",
    "                                                              y: batch_y,\n",
    "                                                              keep_prob: 1.0})\n",
    "            training_loss_protocol_ReLU.append(loss_ReLU)\n",
    "            \n",
    "            loss_SNN, acc_SNN = sess.run([cost_SNN, accuracy_SNN], feed_dict={x: batch_x_norm,\n",
    "                                                              y: batch_y,\n",
    "                                                              dropout_prob: 0.0, is_training:False})\n",
    "            training_loss_protocol_SNN.append(loss_SNN)\n",
    "            \n",
    "            print( \"RELU: Nbr of updates: \" + str(step+1) + \", Minibatch Loss= \" + \\\n",
    "                  \"{:.6f}\".format(loss_ReLU) + \", Training Accuracy= \" + \\\n",
    "                  \"{:.5f}\".format(acc_ReLU))\n",
    "            \n",
    "            print( \"SNN: Nbr of updates: \" + str(step+1) + \", Minibatch Loss= \" + \\\n",
    "                  \"{:.6f}\".format(loss_SNN) + \", Training Accuracy= \" + \\\n",
    "                  \"{:.5f}\".format(acc_SNN))\n",
    "        step += 1\n",
    "    print(\"Optimization Finished!\\n\")\n",
    "\n",
    "    # Calculate accuracy for 256 mnist test images\n",
    "    print(\"ReLU: Testing Accuracy:\", sess.run(accuracy_ReLU, feed_dict={x: mnist.test.images[:512],\n",
    "                                      y: mnist.test.labels[:512],\n",
    "                                      keep_prob: 1.0}))\n",
    "    print(\"SNN: Testing Accuracy:\", sess.run(accuracy_SNN, feed_dict={x: scaler.transform(mnist.test.images[:512]),\n",
    "                                      y: mnist.test.labels[:512],\n",
    "                                      dropout_prob: 0.0, is_training:False}))"
   ]
  },
  {
   "cell_type": "code",
   "execution_count": 14,
   "metadata": {
    "collapsed": false,
    "scrolled": true,
    "pycharm": {
     "name": "#%%\n"
    }
   },
   "outputs": [
    {
     "data": {
      "text/plain": "<Figure size 432x288 with 1 Axes>",
      "image/png": "[encoded data removed]"
     },
     "metadata": {
      "needs_background": "light"
     },
     "output_type": "display_data"
    }
   ],
   "source": [
    "import matplotlib.pyplot as plt\n",
    "\n",
    "fig, ax = plt.subplots()\n",
    "ax.plot( training_loss_protocol_ReLU, label='Loss ReLU-CNN')\n",
    "ax.plot( training_loss_protocol_SNN, label='Loss SNN')\n",
    "ax.set_yscale('log')  # log scale\n",
    "ax.set_xlabel('iterations/updates')\n",
    "ax.set_ylabel('training loss')\n",
    "fig.tight_layout()\n",
    "ax.legend()\n",
    "plt.show()"
   ]
  }
 ],
 "metadata": {
  "kernelspec": {
   "name": "python3",
   "language": "python",
   "display_name": "Python 3"
  },
  "language_info": {
   "codemirror_mode": {
    "name": "ipython",
    "version": 3
   },
   "file_extension": ".py",
   "mimetype": "text/x-python",
   "name": "python",
   "nbconvert_exporter": "python",
   "pygments_lexer": "ipython3",
   "version": "3.5.2"
  }
 },
 "nbformat": 4,
 "nbformat_minor": 0
}