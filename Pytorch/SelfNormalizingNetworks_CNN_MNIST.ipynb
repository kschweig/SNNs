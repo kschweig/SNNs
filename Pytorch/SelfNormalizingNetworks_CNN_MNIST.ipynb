{
 "cells": [
  {
   "cell_type": "markdown",
   "metadata": {
    "collapsed": true,
    "pycharm": {
     "name": "#%% md\n"
    }
   },
   "source": [
    "# Tutorial on self-normalizing networks on the MNIST data set: convolutional neural networks\n",
    "\n",
    "*Author:* Kajetan Schweighofer, 2021"
   ]
  },
  {
   "cell_type": "code",
   "execution_count": 64,
   "outputs": [],
   "source": [
    "import os\n",
    "import copy\n",
    "import numpy as np\n",
    "from tqdm import tqdm\n",
    "\n",
    "import torch\n",
    "import torch.nn as nn\n",
    "import torch.nn.functional as F\n",
    "from torch.utils.data import DataLoader, Subset\n",
    "import torchvision\n",
    "from torchvision import transforms\n",
    "\n",
    "from sklearn.metrics import accuracy_score\n",
    "\n",
    "import matplotlib.pyplot as plt\n",
    "\n",
    "device = \"cuda\" if torch.cuda.is_available() else \"cpu\""
   ],
   "metadata": {
    "collapsed": false,
    "pycharm": {
     "name": "#%%\n"
    }
   }
  },
  {
   "cell_type": "code",
   "execution_count": 65,
   "outputs": [],
   "source": [
    "# load data and preprocess\n",
    "\n",
    "path = os.path.join(\".\", \"dataset\", \"mnist\")\n",
    "os.makedirs(path, exist_ok=True)\n",
    "\n",
    "# convert PIL image to tensor and normalize\n",
    "transform = transform=transforms.Compose([\n",
    "    transforms.ToTensor(),\n",
    "])\n",
    "\n",
    "train = torchvision.datasets.MNIST(path, download=True, train=True, transform=transform)\n",
    "test = torchvision.datasets.MNIST(path, download=True, train=False, transform=transform)"
   ],
   "metadata": {
    "collapsed": false,
    "pycharm": {
     "name": "#%%\n"
    }
   }
  },
  {
   "cell_type": "markdown",
   "source": [
    "## Functions"
   ],
   "metadata": {
    "collapsed": false,
    "pycharm": {
     "name": "#%% md\n"
    }
   }
  },
  {
   "cell_type": "markdown",
   "source": [
    "### Model"
   ],
   "metadata": {
    "collapsed": false,
    "pycharm": {
     "name": "#%% md\n"
    }
   }
  },
  {
   "cell_type": "code",
   "execution_count": 66,
   "outputs": [],
   "source": [
    "class CNN(nn.Module):\n",
    "\n",
    "    def __init__(self, out_features: int, p_drop=0.2, use_selu: bool=False):\n",
    "        super(CNN, self).__init__()\n",
    "\n",
    "        # SELU and AlphaDropout are already included in Pytorch Releases > 1.7.1\n",
    "        activation = nn.SELU() if use_selu else nn.ReLU()\n",
    "        dropout = nn.AlphaDropout(p=p_drop) if use_selu else nn.Dropout(p=p_drop)\n",
    "\n",
    "        self.net = nn.Sequential(\n",
    "            nn.Conv2d(in_channels=1, out_channels=8, kernel_size=5),\n",
    "            nn.MaxPool2d(kernel_size=2),\n",
    "            activation,\n",
    "            nn.Conv2d(in_channels=8, out_channels=16, kernel_size=3),\n",
    "            nn.MaxPool2d(kernel_size=2),\n",
    "            activation,\n",
    "            nn.Flatten(),\n",
    "            nn.Linear(in_features=16*5*5, out_features=512),\n",
    "            activation,\n",
    "            dropout,\n",
    "            nn.Linear(in_features=512, out_features=out_features)\n",
    "        )\n",
    "\n",
    "    def forward(self, x):\n",
    "        return self.net(x)"
   ],
   "metadata": {
    "collapsed": false,
    "pycharm": {
     "name": "#%%\n"
    }
   }
  },
  {
   "cell_type": "markdown",
   "source": [
    "### Accuracy metric"
   ],
   "metadata": {
    "collapsed": false,
    "pycharm": {
     "name": "#%% md\n"
    }
   }
  },
  {
   "cell_type": "code",
   "execution_count": 67,
   "outputs": [],
   "source": [
    "class Accuracy(nn.Module):\n",
    "\n",
    "    def forward(self, x, y):\n",
    "\n",
    "        y_pred = F.softmax(x, dim=1).argmax(dim=1).cpu().numpy()\n",
    "        y = y.cpu().numpy()\n",
    "\n",
    "        return accuracy_score(y_true=y, y_pred=y_pred)"
   ],
   "metadata": {
    "collapsed": false,
    "pycharm": {
     "name": "#%%\n"
    }
   }
  },
  {
   "cell_type": "markdown",
   "source": [
    "### Training / Evaluation methods"
   ],
   "metadata": {
    "collapsed": false,
    "pycharm": {
     "name": "#%% md\n"
    }
   }
  },
  {
   "cell_type": "code",
   "execution_count": 68,
   "outputs": [],
   "source": [
    "def _forward(network: nn.Module, data: DataLoader, metric: callable):\n",
    "\n",
    "    for x, y in data:\n",
    "        x = x.to(next(network.parameters()).device)\n",
    "\n",
    "        y_hat = network.forward(x).cpu()\n",
    "        loss = metric(y_hat, y)\n",
    "        yield loss\n",
    "\n",
    "@torch.enable_grad()\n",
    "def update(network: nn.Module, data: DataLoader, loss: nn.Module,\n",
    "           opt: torch.optim.Optimizer) -> list:\n",
    "\n",
    "    network.train()\n",
    "\n",
    "    errs = []\n",
    "    for err in _forward(network, data, loss):\n",
    "        errs.append(err.item())\n",
    "        opt.zero_grad()\n",
    "        try:\n",
    "            err.backward()\n",
    "            opt.step()\n",
    "        except:\n",
    "            print('error in update step')\n",
    "    return errs\n",
    "\n",
    "@torch.no_grad()\n",
    "def evaluate(network: nn.Module, data: DataLoader, metric: callable) -> float:\n",
    "\n",
    "    network.eval()\n",
    "\n",
    "    performance = []\n",
    "    for p in _forward(network, data, metric):\n",
    "        performance.append(p.item())\n",
    "    return np.mean(performance).item()\n",
    "\n",
    "\n",
    "def fit(network: nn.Module, trainloader: DataLoader, valloader: DataLoader,\n",
    "          testloader: DataLoader, epochs: int, lr: float):\n",
    "    optimizer = torch.optim.SGD(params=network.parameters(), lr=lr)\n",
    "    ce = nn.CrossEntropyLoss()\n",
    "    accuracy = Accuracy()\n",
    "\n",
    "    train_losses, val_losses, accuracies = [], [], []\n",
    "\n",
    "    # performance before training\n",
    "    val_losses.append(evaluate(network=network, data=valloader, metric=ce))\n",
    "\n",
    "    pbar = tqdm(range(epochs))\n",
    "    for ep in pbar:\n",
    "        # update network\n",
    "        tl = update(network=network, data=trainloader, loss=ce, opt=optimizer)\n",
    "        train_losses.extend(tl)\n",
    "        vl = evaluate(network=network, data=valloader, metric=ce)\n",
    "        val_losses.append(vl)\n",
    "        ac = evaluate(network=network, data=valloader, metric=accuracy)\n",
    "\n",
    "        if len(accuracies) == 0 or ac > max(accuracies):\n",
    "            # here we would store the model on disc for early stopping\n",
    "            best_model = copy.deepcopy(network)\n",
    "\n",
    "        accuracies.append(ac)\n",
    "\n",
    "        print(f\"train loss: {round(np.mean(tl), 4):.4f}, \"\n",
    "              f\"val loss: {round(vl, 4):.4f}, \"\n",
    "              f\"accuracy: {round(ac * 100, 2):.2f}%\")\n",
    "\n",
    "        pbar.set_description_str(desc=f\"Epoch {ep+1}\")\n",
    "\n",
    "    # evaluate on best model obtained throughout training\n",
    "    acc = evaluate(network=best_model, data=testloader, metric=accuracy)\n",
    "\n",
    "    print(f\"Final accuracy on testset: {round(acc*100, 2):.2f}%\")\n",
    "\n",
    "    return train_losses, val_losses, accuracies, acc"
   ],
   "metadata": {
    "collapsed": false,
    "pycharm": {
     "name": "#%%\n"
    }
   }
  },
  {
   "cell_type": "markdown",
   "source": [
    "## Training\n",
    "\n",
    "### Hyperparameters"
   ],
   "metadata": {
    "collapsed": false,
    "pycharm": {
     "name": "#%% md\n"
    }
   }
  },
  {
   "cell_type": "code",
   "execution_count": 69,
   "outputs": [],
   "source": [
    "epochs = 20\n",
    "lr = 1e-2\n",
    "batch_size = 128\n",
    "num_workers = 4\n",
    "p_drop = 0.05"
   ],
   "metadata": {
    "collapsed": false,
    "pycharm": {
     "name": "#%%\n"
    }
   }
  },
  {
   "cell_type": "markdown",
   "source": [
    "### Create Dataloaders"
   ],
   "metadata": {
    "collapsed": false,
    "pycharm": {
     "name": "#%% md\n"
    }
   }
  },
  {
   "cell_type": "code",
   "execution_count": 70,
   "outputs": [],
   "source": [
    "# obtain validation set (1/6 of train data to be equal to size of test data)\n",
    "rng = np.random.default_rng(seed=42)\n",
    "val_inds = rng.choice(np.arange(len(train)), size=len(train)//6, replace=False)\n",
    "train_inds = np.delete(np.arange(len(train)), val_inds)\n",
    "\n",
    "trainloader = DataLoader(Subset(train, indices=train_inds),\n",
    "                         batch_size=batch_size, drop_last=True, shuffle=True, num_workers=num_workers)\n",
    "valloader = DataLoader(Subset(train, indices=val_inds),\n",
    "                       batch_size=batch_size, drop_last=True, shuffle=True, num_workers=num_workers)\n",
    "testloader = DataLoader(test, batch_size=batch_size, drop_last=False, shuffle=False, num_workers=num_workers)"
   ],
   "metadata": {
    "collapsed": false,
    "pycharm": {
     "name": "#%%\n"
    }
   }
  },
  {
   "cell_type": "markdown",
   "source": [
    "### Train Networks"
   ],
   "metadata": {
    "collapsed": false,
    "pycharm": {
     "name": "#%% md\n"
    }
   }
  },
  {
   "cell_type": "code",
   "execution_count": 71,
   "outputs": [
    {
     "name": "stderr",
     "output_type": "stream",
     "text": [
      "Epoch 20: 100%|██████████| 20/20 [02:49<00:00,  8.47s/it]\n"
     ]
    },
    {
     "name": "stdout",
     "output_type": "stream",
     "text": [
      "train loss: 2.1629, val loss: 1.4537, accuracy: 69.52%\n",
      "train loss: 0.6434, val loss: 0.4040, accuracy: 88.14%\n",
      "train loss: 0.3676, val loss: 0.3129, accuracy: 90.64%\n",
      "train loss: 0.2938, val loss: 0.2551, accuracy: 92.28%\n",
      "train loss: 0.2417, val loss: 0.2525, accuracy: 92.01%\n",
      "train loss: 0.2041, val loss: 0.1844, accuracy: 94.53%\n",
      "train loss: 0.1755, val loss: 0.1565, accuracy: 95.45%\n",
      "train loss: 0.1530, val loss: 0.1411, accuracy: 95.77%\n",
      "train loss: 0.1363, val loss: 0.1268, accuracy: 96.29%\n",
      "train loss: 0.1229, val loss: 0.1197, accuracy: 96.49%\n",
      "train loss: 0.1129, val loss: 0.1152, accuracy: 96.54%\n",
      "train loss: 0.1044, val loss: 0.1077, accuracy: 96.88%\n",
      "train loss: 0.0979, val loss: 0.1007, accuracy: 96.97%\n",
      "train loss: 0.0914, val loss: 0.0923, accuracy: 97.21%\n",
      "train loss: 0.0864, val loss: 0.0921, accuracy: 97.05%\n",
      "train loss: 0.0812, val loss: 0.0886, accuracy: 97.43%\n",
      "train loss: 0.0774, val loss: 0.0875, accuracy: 97.37%\n",
      "train loss: 0.0744, val loss: 0.0809, accuracy: 97.44%\n",
      "train loss: 0.0712, val loss: 0.0785, accuracy: 97.61%\n",
      "train loss: 0.0683, val loss: 0.0728, accuracy: 97.86%\n",
      "Final accuracy on testset: 98.15%\n"
     ]
    }
   ],
   "source": [
    "# ReLU training\n",
    "\n",
    "# 28x28 = 784 input images for 10 classes\n",
    "network = CNN(out_features=10, p_drop=p_drop, use_selu=False).to(device)\n",
    "rtl, rvl, raccs, racc = fit(network, trainloader, valloader, testloader, epochs, lr)"
   ],
   "metadata": {
    "collapsed": false,
    "pycharm": {
     "name": "#%%\n"
    }
   }
  },
  {
   "cell_type": "code",
   "execution_count": 72,
   "outputs": [
    {
     "name": "stderr",
     "output_type": "stream",
     "text": [
      "Epoch 20: 100%|██████████| 20/20 [02:36<00:00,  7.81s/it]\n"
     ]
    },
    {
     "name": "stdout",
     "output_type": "stream",
     "text": [
      "train loss: 1.2665, val loss: 0.4315, accuracy: 87.88%\n",
      "train loss: 0.3699, val loss: 0.2902, accuracy: 91.63%\n",
      "train loss: 0.2715, val loss: 0.2317, accuracy: 93.17%\n",
      "train loss: 0.2199, val loss: 0.1934, accuracy: 94.16%\n",
      "train loss: 0.1866, val loss: 0.1701, accuracy: 94.85%\n",
      "train loss: 0.1627, val loss: 0.1492, accuracy: 95.49%\n",
      "train loss: 0.1446, val loss: 0.1338, accuracy: 95.95%\n",
      "train loss: 0.1289, val loss: 0.1230, accuracy: 96.13%\n",
      "train loss: 0.1193, val loss: 0.1141, accuracy: 96.49%\n",
      "train loss: 0.1096, val loss: 0.1080, accuracy: 96.54%\n",
      "train loss: 0.1031, val loss: 0.0992, accuracy: 96.93%\n",
      "train loss: 0.0968, val loss: 0.0940, accuracy: 97.03%\n",
      "train loss: 0.0906, val loss: 0.0894, accuracy: 97.23%\n",
      "train loss: 0.0859, val loss: 0.0851, accuracy: 97.31%\n",
      "train loss: 0.0818, val loss: 0.0834, accuracy: 97.37%\n",
      "train loss: 0.0780, val loss: 0.0791, accuracy: 97.45%\n",
      "train loss: 0.0748, val loss: 0.0774, accuracy: 97.56%\n",
      "train loss: 0.0719, val loss: 0.0739, accuracy: 97.68%\n",
      "train loss: 0.0689, val loss: 0.0713, accuracy: 97.80%\n",
      "train loss: 0.0665, val loss: 0.0699, accuracy: 97.76%\n",
      "Final accuracy on testset: 98.28%\n"
     ]
    }
   ],
   "source": [
    "# SELU training\n",
    "network = CNN(out_features=10, p_drop=p_drop, use_selu=True).to(device)\n",
    "stl, svl, saccs, sacc = fit(network, trainloader, valloader, testloader, epochs, lr)"
   ],
   "metadata": {
    "collapsed": false,
    "pycharm": {
     "name": "#%%\n"
    }
   }
  },
  {
   "cell_type": "markdown",
   "source": [
    "### Plot results"
   ],
   "metadata": {
    "collapsed": false,
    "pycharm": {
     "name": "#%% md\n"
    }
   }
  },
  {
   "cell_type": "code",
   "execution_count": 73,
   "outputs": [
    {
     "data": {
      "text/plain": "<Figure size 432x288 with 1 Axes>",
      "image/png": "[encoded data removed]"
     },
     "metadata": {
      "needs_background": "light"
     },
     "output_type": "display_data"
    }
   ],
   "source": [
    "plt.figure()\n",
    "plt.plot(np.asarray(range(len(rtl))) / len(trainloader), rtl, alpha=0.4, label=\"ReLU train loss\")\n",
    "plt.plot(np.asarray(range(len(stl))) / len(trainloader), stl, alpha=0.4, label=\"SELU train loss\")\n",
    "plt.plot(range(len(rvl)), rvl, color=\"C0\", label=\"ReLU val loss\")\n",
    "plt.plot(range(len(svl)), svl, color=\"C1\", label=\"SELU val loss\")\n",
    "plt.title(\"Train and Validation loss over Epochs\")\n",
    "plt.xlabel(\"Epochs\")\n",
    "plt.ylabel(\"CELoss\")\n",
    "plt.yscale(\"log\")\n",
    "plt.legend()\n",
    "plt.show()"
   ],
   "metadata": {
    "collapsed": false,
    "pycharm": {
     "name": "#%%\n"
    }
   }
  },
  {
   "cell_type": "code",
   "execution_count": 74,
   "outputs": [
    {
     "data": {
      "text/plain": "<Figure size 432x288 with 1 Axes>",
      "image/png": "[encoded data removed]"
     },
     "metadata": {
      "needs_background": "light"
     },
     "output_type": "display_data"
    }
   ],
   "source": [
    "plt.figure()\n",
    "plt.plot(range(1, len(raccs)+1), [a*100 for a in raccs], label=\"ReLU val accuracy\")\n",
    "plt.hlines(y=racc*100, xmin=0, xmax=len(raccs), colors=\"C0\", linestyles=\"dashed\", label=\"ReLU test accuracy\")\n",
    "plt.plot(range(1, len(saccs)+1), [a*100 for a in saccs], label=\"SELU val accuracy\")\n",
    "plt.hlines(y=sacc*100, xmin=0, xmax=len(saccs), colors=\"C1\", linestyles=\"dashed\", label=\"SELU test accuracy\")\n",
    "plt.title(\"Validation Accuracy\")\n",
    "plt.xlabel(\"Epochs\")\n",
    "plt.ylabel(\"Accuracy\")\n",
    "\n",
    "plt.legend()\n",
    "plt.show()"
   ],
   "metadata": {
    "collapsed": false,
    "pycharm": {
     "name": "#%%\n"
    }
   }
  },
  {
   "cell_type": "code",
   "execution_count": 74,
   "outputs": [],
   "source": [],
   "metadata": {
    "collapsed": false,
    "pycharm": {
     "name": "#%%\n"
    }
   }
  }
 ],
 "metadata": {
  "kernelspec": {
   "name": "pycharm-91bfdd0f",
   "language": "python",
   "display_name": "PyCharm (SNNs)"
  },
  "language_info": {
   "codemirror_mode": {
    "name": "ipython",
    "version": 2
   },
   "file_extension": ".py",
   "mimetype": "text/x-python",
   "name": "python",
   "nbconvert_exporter": "python",
   "pygments_lexer": "ipython2",
   "version": "2.7.6"
  }
 },
 "nbformat": 4,
 "nbformat_minor": 0
}