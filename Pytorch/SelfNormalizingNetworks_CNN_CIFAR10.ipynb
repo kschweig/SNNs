{
 "cells": [
  {
   "cell_type": "markdown",
   "metadata": {
    "collapsed": true,
    "pycharm": {
     "name": "#%% md\n"
    }
   },
   "source": [
    "# Tutorial on self-normalizing networks on the CIFAR10 data set: convolutional neural networks\n",
    "\n",
    "*Author:* Kajetan Schweighofer, 2021"
   ]
  },
  {
   "cell_type": "code",
   "execution_count": 1,
   "outputs": [],
   "source": [
    "import os\n",
    "import copy\n",
    "import numpy as np\n",
    "from tqdm import tqdm\n",
    "\n",
    "import torch\n",
    "import torch.nn as nn\n",
    "import torch.nn.functional as F\n",
    "from torch.utils.data import DataLoader, Subset\n",
    "import torchvision\n",
    "from torchvision import transforms\n",
    "\n",
    "from sklearn.metrics import accuracy_score\n",
    "\n",
    "import matplotlib.pyplot as plt\n",
    "\n",
    "device = \"cuda\" if torch.cuda.is_available() else \"cpu\""
   ],
   "metadata": {
    "collapsed": false,
    "pycharm": {
     "name": "#%%\n"
    }
   }
  },
  {
   "cell_type": "code",
   "execution_count": 2,
   "outputs": [
    {
     "name": "stdout",
     "output_type": "stream",
     "text": [
      "Files already downloaded and verified\n",
      "Files already downloaded and verified\n",
      "50000 10000\n"
     ]
    }
   ],
   "source": [
    "# load data and preprocess\n",
    "\n",
    "path = os.path.join(\".\", \"dataset\", \"cifar10\")\n",
    "os.makedirs(path, exist_ok=True)\n",
    "\n",
    "# convert PIL image to tensor and normalize\n",
    "transform = transform=transforms.Compose([\n",
    "    transforms.ToTensor(),\n",
    "    transforms.Normalize((0.4914, 0.4822, 0.4465), (0.247, 0.243, 0.261)),\n",
    "])\n",
    "\n",
    "train = torchvision.datasets.CIFAR10(path, download=True, train=True, transform=transform)\n",
    "test = torchvision.datasets.CIFAR10(path, download=True, train=False, transform=transform)\n",
    "\n",
    "print(len(train), len(test))"
   ],
   "metadata": {
    "collapsed": false,
    "pycharm": {
     "name": "#%%\n"
    }
   }
  },
  {
   "cell_type": "markdown",
   "source": [
    "## Functions"
   ],
   "metadata": {
    "collapsed": false,
    "pycharm": {
     "name": "#%% md\n"
    }
   }
  },
  {
   "cell_type": "markdown",
   "source": [
    "### Model"
   ],
   "metadata": {
    "collapsed": false,
    "pycharm": {
     "name": "#%% md\n"
    }
   }
  },
  {
   "cell_type": "code",
   "execution_count": 3,
   "outputs": [],
   "source": [
    "class CNN(nn.Module):\n",
    "\n",
    "    def __init__(self, out_features: int, use_selu: bool=False):\n",
    "        super(CNN, self).__init__()\n",
    "\n",
    "        # SELU and AlphaDropout are already included in Pytorch Releases > 1.7.1\n",
    "        activation = nn.SELU() if use_selu else nn.ELU()\n",
    "\n",
    "        self.net = nn.Sequential(\n",
    "            nn.Conv2d(in_channels=3, out_channels=64, kernel_size=5),\n",
    "            nn.MaxPool2d(kernel_size=2),\n",
    "            activation,\n",
    "            nn.Conv2d(in_channels=64, out_channels=64, kernel_size=3),\n",
    "            nn.MaxPool2d(kernel_size=2),\n",
    "            activation,\n",
    "            nn.Conv2d(in_channels=64, out_channels=128, kernel_size=3),\n",
    "            activation,\n",
    "            nn.Flatten(),\n",
    "            nn.Linear(in_features=128*4*4, out_features=1024),\n",
    "            activation,\n",
    "            nn.Linear(in_features=1024, out_features=512),\n",
    "            activation,\n",
    "            nn.Linear(in_features=512, out_features=out_features)\n",
    "        )\n",
    "\n",
    "    def forward(self, x):\n",
    "        return self.net(x)"
   ],
   "metadata": {
    "collapsed": false,
    "pycharm": {
     "name": "#%%\n"
    }
   }
  },
  {
   "cell_type": "markdown",
   "source": [
    "### Accuracy metric"
   ],
   "metadata": {
    "collapsed": false,
    "pycharm": {
     "name": "#%% md\n"
    }
   }
  },
  {
   "cell_type": "code",
   "execution_count": 4,
   "outputs": [],
   "source": [
    "class Accuracy(nn.Module):\n",
    "\n",
    "    def forward(self, x, y):\n",
    "\n",
    "        y_pred = F.softmax(x, dim=1).argmax(dim=1).cpu().numpy()\n",
    "        y = y.cpu().numpy()\n",
    "\n",
    "        return accuracy_score(y_true=y, y_pred=y_pred)"
   ],
   "metadata": {
    "collapsed": false,
    "pycharm": {
     "name": "#%%\n"
    }
   }
  },
  {
   "cell_type": "markdown",
   "source": [
    "### Training / Evaluation methods"
   ],
   "metadata": {
    "collapsed": false,
    "pycharm": {
     "name": "#%% md\n"
    }
   }
  },
  {
   "cell_type": "code",
   "execution_count": 5,
   "outputs": [],
   "source": [
    "def _forward(network: nn.Module, data: DataLoader, metric: callable):\n",
    "\n",
    "    for x, y in data:\n",
    "        x = x.to(next(network.parameters()).device)\n",
    "\n",
    "        y_hat = network.forward(x).cpu()\n",
    "        loss = metric(y_hat, y)\n",
    "        yield loss\n",
    "\n",
    "@torch.enable_grad()\n",
    "def update(network: nn.Module, data: DataLoader, loss: nn.Module,\n",
    "           opt: torch.optim.Optimizer) -> list:\n",
    "\n",
    "    network.train()\n",
    "\n",
    "    errs = []\n",
    "    for err in _forward(network, data, loss):\n",
    "        errs.append(err.item())\n",
    "        opt.zero_grad()\n",
    "        try:\n",
    "            err.backward()\n",
    "            opt.step()\n",
    "        except:\n",
    "            print('error in update step')\n",
    "    return errs\n",
    "\n",
    "@torch.no_grad()\n",
    "def evaluate(network: nn.Module, data: DataLoader, metric: callable) -> float:\n",
    "\n",
    "    network.eval()\n",
    "\n",
    "    performance = []\n",
    "    for p in _forward(network, data, metric):\n",
    "        performance.append(p.item())\n",
    "    return np.mean(performance).item()\n",
    "\n",
    "\n",
    "def fit(network: nn.Module, trainloader: DataLoader, valloader: DataLoader,\n",
    "          testloader: DataLoader, epochs: int, lr: float):\n",
    "    optimizer = torch.optim.Adam(params=network.parameters(), lr=lr)\n",
    "    ce = nn.CrossEntropyLoss()\n",
    "    accuracy = Accuracy()\n",
    "\n",
    "    train_losses, val_losses, accuracies = [], [], []\n",
    "\n",
    "    # performance before training\n",
    "    val_losses.append(evaluate(network=network, data=valloader, metric=ce))\n",
    "\n",
    "    pbar = tqdm(range(epochs))\n",
    "    for ep in pbar:\n",
    "        # update network\n",
    "        tl = update(network=network, data=trainloader, loss=ce, opt=optimizer)\n",
    "        train_losses.extend(tl)\n",
    "        vl = evaluate(network=network, data=valloader, metric=ce)\n",
    "        val_losses.append(vl)\n",
    "        ac = evaluate(network=network, data=valloader, metric=accuracy)\n",
    "\n",
    "        if len(accuracies) == 0 or ac > max(accuracies):\n",
    "            # here we would store the model on disc for early stopping\n",
    "            best_model = copy.deepcopy(network)\n",
    "\n",
    "        accuracies.append(ac)\n",
    "\n",
    "        print(f\"train loss: {round(np.mean(tl), 4):.4f}, \"\n",
    "              f\"val loss: {round(vl, 4):.4f}, \"\n",
    "              f\"accuracy: {round(ac * 100, 2):.2f}%\")\n",
    "\n",
    "        pbar.set_description_str(desc=f\"Epoch {ep+1}\")\n",
    "\n",
    "    # evaluate on best model obtained throughout training\n",
    "    acc = evaluate(network=best_model, data=testloader, metric=accuracy)\n",
    "\n",
    "    print(f\"Final accuracy on testset: {round(acc*100, 2):.2f}%\")\n",
    "\n",
    "    return train_losses, val_losses, accuracies, acc"
   ],
   "metadata": {
    "collapsed": false,
    "pycharm": {
     "name": "#%%\n"
    }
   }
  },
  {
   "cell_type": "markdown",
   "source": [
    "## Training\n",
    "\n",
    "### Hyperparameters"
   ],
   "metadata": {
    "collapsed": false,
    "pycharm": {
     "name": "#%% md\n"
    }
   }
  },
  {
   "cell_type": "code",
   "execution_count": 6,
   "outputs": [],
   "source": [
    "epochs = 50\n",
    "lr = 5e-5\n",
    "batch_size = 512\n",
    "num_workers = 4"
   ],
   "metadata": {
    "collapsed": false,
    "pycharm": {
     "name": "#%%\n"
    }
   }
  },
  {
   "cell_type": "markdown",
   "source": [
    "### Create Dataloaders"
   ],
   "metadata": {
    "collapsed": false,
    "pycharm": {
     "name": "#%% md\n"
    }
   }
  },
  {
   "cell_type": "code",
   "execution_count": 7,
   "outputs": [],
   "source": [
    "# obtain validation set (1/5 of train data to be equal to size of test data)\n",
    "rng = np.random.default_rng(seed=42)\n",
    "val_inds = rng.choice(np.arange(len(train)), size=len(train)//5, replace=False)\n",
    "train_inds = np.delete(np.arange(len(train)), val_inds)\n",
    "\n",
    "trainloader = DataLoader(Subset(train, indices=train_inds),\n",
    "                         batch_size=batch_size, drop_last=True, shuffle=True, num_workers=num_workers)\n",
    "valloader = DataLoader(Subset(train, indices=val_inds),\n",
    "                       batch_size=batch_size, drop_last=True, shuffle=True, num_workers=num_workers)\n",
    "testloader = DataLoader(test, batch_size=batch_size, drop_last=False, shuffle=False, num_workers=num_workers)"
   ],
   "metadata": {
    "collapsed": false,
    "pycharm": {
     "name": "#%%\n"
    }
   }
  },
  {
   "cell_type": "markdown",
   "source": [
    "### Train Networks"
   ],
   "metadata": {
    "collapsed": false,
    "pycharm": {
     "name": "#%% md\n"
    }
   }
  },
  {
   "cell_type": "code",
   "execution_count": 8,
   "outputs": [
    {
     "name": "stderr",
     "output_type": "stream",
     "text": [
      "Epoch 50: 100%|██████████| 50/50 [04:42<00:00,  5.65s/it]\n"
     ]
    },
    {
     "name": "stdout",
     "output_type": "stream",
     "text": [
      "train loss: 1.9794, val loss: 1.7870, accuracy: 37.38%\n",
      "train loss: 1.6353, val loss: 1.5137, accuracy: 45.45%\n",
      "train loss: 1.4618, val loss: 1.4321, accuracy: 48.53%\n",
      "train loss: 1.3912, val loss: 1.3888, accuracy: 49.59%\n",
      "train loss: 1.3400, val loss: 1.3432, accuracy: 51.34%\n",
      "train loss: 1.2988, val loss: 1.3044, accuracy: 53.09%\n",
      "train loss: 1.2596, val loss: 1.2817, accuracy: 53.48%\n",
      "train loss: 1.2236, val loss: 1.2472, accuracy: 55.11%\n",
      "train loss: 1.1931, val loss: 1.2223, accuracy: 56.60%\n",
      "train loss: 1.1664, val loss: 1.1931, accuracy: 57.45%\n",
      "train loss: 1.1365, val loss: 1.1686, accuracy: 58.61%\n",
      "train loss: 1.1121, val loss: 1.1562, accuracy: 59.02%\n",
      "train loss: 1.0883, val loss: 1.1324, accuracy: 59.88%\n",
      "train loss: 1.0703, val loss: 1.1240, accuracy: 59.76%\n",
      "train loss: 1.0497, val loss: 1.1105, accuracy: 60.75%\n",
      "train loss: 1.0311, val loss: 1.1038, accuracy: 61.55%\n",
      "train loss: 1.0182, val loss: 1.0772, accuracy: 61.87%\n",
      "train loss: 0.9993, val loss: 1.0781, accuracy: 61.97%\n",
      "train loss: 0.9894, val loss: 1.0587, accuracy: 62.72%\n",
      "train loss: 0.9693, val loss: 1.0620, accuracy: 62.73%\n",
      "train loss: 0.9575, val loss: 1.0361, accuracy: 63.49%\n",
      "train loss: 0.9450, val loss: 1.0426, accuracy: 63.09%\n",
      "train loss: 0.9353, val loss: 1.0320, accuracy: 63.88%\n",
      "train loss: 0.9188, val loss: 1.0177, accuracy: 64.40%\n",
      "train loss: 0.9064, val loss: 1.0109, accuracy: 64.58%\n",
      "train loss: 0.8939, val loss: 1.0005, accuracy: 65.10%\n",
      "train loss: 0.8823, val loss: 0.9957, accuracy: 65.10%\n",
      "train loss: 0.8779, val loss: 0.9932, accuracy: 65.22%\n",
      "train loss: 0.8645, val loss: 0.9850, accuracy: 65.52%\n",
      "train loss: 0.8578, val loss: 0.9799, accuracy: 65.88%\n",
      "train loss: 0.8430, val loss: 0.9698, accuracy: 66.60%\n",
      "train loss: 0.8352, val loss: 0.9859, accuracy: 65.67%\n",
      "train loss: 0.8237, val loss: 0.9631, accuracy: 66.80%\n",
      "train loss: 0.8157, val loss: 0.9765, accuracy: 66.28%\n",
      "train loss: 0.8076, val loss: 0.9629, accuracy: 66.69%\n",
      "train loss: 0.7983, val loss: 0.9520, accuracy: 67.29%\n",
      "train loss: 0.7889, val loss: 0.9514, accuracy: 67.12%\n",
      "train loss: 0.7830, val loss: 0.9512, accuracy: 67.00%\n",
      "train loss: 0.7726, val loss: 0.9414, accuracy: 67.40%\n",
      "train loss: 0.7628, val loss: 0.9390, accuracy: 67.55%\n",
      "train loss: 0.7530, val loss: 0.9405, accuracy: 67.66%\n",
      "train loss: 0.7447, val loss: 0.9267, accuracy: 67.97%\n",
      "train loss: 0.7406, val loss: 0.9251, accuracy: 68.06%\n",
      "train loss: 0.7311, val loss: 0.9343, accuracy: 67.50%\n",
      "train loss: 0.7209, val loss: 0.9250, accuracy: 67.86%\n",
      "train loss: 0.7129, val loss: 0.9221, accuracy: 68.35%\n",
      "train loss: 0.7055, val loss: 0.9260, accuracy: 68.52%\n",
      "train loss: 0.6978, val loss: 0.9177, accuracy: 68.73%\n",
      "train loss: 0.6903, val loss: 0.9201, accuracy: 68.09%\n",
      "train loss: 0.6818, val loss: 0.9080, accuracy: 68.44%\n",
      "Final accuracy on testset: 68.13%\n"
     ]
    }
   ],
   "source": [
    "# ReLU training\n",
    "\n",
    "# 28x28 = 784 input images for 10 classes\n",
    "network = CNN(out_features=10, use_selu=False).to(device)\n",
    "rtl, rvl, raccs, racc = fit(network, trainloader, valloader, testloader, epochs, lr)"
   ],
   "metadata": {
    "collapsed": false,
    "pycharm": {
     "name": "#%%\n"
    }
   }
  },
  {
   "cell_type": "code",
   "execution_count": 9,
   "outputs": [
    {
     "name": "stderr",
     "output_type": "stream",
     "text": [
      "Epoch 50: 100%|██████████| 50/50 [04:38<00:00,  5.57s/it]\n"
     ]
    },
    {
     "name": "stdout",
     "output_type": "stream",
     "text": [
      "train loss: 1.8594, val loss: 1.6375, accuracy: 42.64%\n",
      "train loss: 1.5147, val loss: 1.4489, accuracy: 48.41%\n",
      "train loss: 1.3729, val loss: 1.3613, accuracy: 50.90%\n",
      "train loss: 1.2963, val loss: 1.3039, accuracy: 53.11%\n",
      "train loss: 1.2404, val loss: 1.2656, accuracy: 54.75%\n",
      "train loss: 1.1919, val loss: 1.2173, accuracy: 56.61%\n",
      "train loss: 1.1494, val loss: 1.1934, accuracy: 57.80%\n",
      "train loss: 1.1175, val loss: 1.1703, accuracy: 58.36%\n",
      "train loss: 1.0876, val loss: 1.1445, accuracy: 58.97%\n",
      "train loss: 1.0591, val loss: 1.1332, accuracy: 60.12%\n",
      "train loss: 1.0400, val loss: 1.1192, accuracy: 60.23%\n",
      "train loss: 1.0145, val loss: 1.1020, accuracy: 61.25%\n",
      "train loss: 0.9937, val loss: 1.0925, accuracy: 61.08%\n",
      "train loss: 0.9813, val loss: 1.0852, accuracy: 61.82%\n",
      "train loss: 0.9627, val loss: 1.0864, accuracy: 61.72%\n",
      "train loss: 0.9483, val loss: 1.0727, accuracy: 61.98%\n",
      "train loss: 0.9321, val loss: 1.0720, accuracy: 62.84%\n",
      "train loss: 0.9208, val loss: 1.0679, accuracy: 62.55%\n",
      "train loss: 0.9028, val loss: 1.0471, accuracy: 63.09%\n",
      "train loss: 0.8848, val loss: 1.0570, accuracy: 62.90%\n",
      "train loss: 0.8737, val loss: 1.0492, accuracy: 63.48%\n",
      "train loss: 0.8599, val loss: 1.0336, accuracy: 63.57%\n",
      "train loss: 0.8500, val loss: 1.0315, accuracy: 63.90%\n",
      "train loss: 0.8401, val loss: 1.0432, accuracy: 63.45%\n",
      "train loss: 0.8310, val loss: 1.0276, accuracy: 64.20%\n",
      "train loss: 0.8156, val loss: 1.0327, accuracy: 64.23%\n",
      "train loss: 0.8047, val loss: 1.0262, accuracy: 64.46%\n",
      "train loss: 0.7962, val loss: 1.0293, accuracy: 64.46%\n",
      "train loss: 0.7851, val loss: 1.0319, accuracy: 64.51%\n",
      "train loss: 0.7714, val loss: 1.0158, accuracy: 64.60%\n",
      "train loss: 0.7629, val loss: 1.0247, accuracy: 64.49%\n",
      "train loss: 0.7556, val loss: 1.0234, accuracy: 64.67%\n",
      "train loss: 0.7438, val loss: 1.0249, accuracy: 64.48%\n",
      "train loss: 0.7383, val loss: 1.0338, accuracy: 64.18%\n",
      "train loss: 0.7287, val loss: 1.0225, accuracy: 65.07%\n",
      "train loss: 0.7148, val loss: 1.0164, accuracy: 65.21%\n",
      "train loss: 0.7074, val loss: 1.0194, accuracy: 64.73%\n",
      "train loss: 0.6994, val loss: 1.0284, accuracy: 64.93%\n",
      "train loss: 0.6942, val loss: 1.0416, accuracy: 64.60%\n",
      "train loss: 0.6831, val loss: 1.0333, accuracy: 65.13%\n",
      "train loss: 0.6703, val loss: 1.0363, accuracy: 64.94%\n",
      "train loss: 0.6668, val loss: 1.0428, accuracy: 64.73%\n",
      "train loss: 0.6613, val loss: 1.0249, accuracy: 64.95%\n",
      "train loss: 0.6528, val loss: 1.0419, accuracy: 64.68%\n",
      "train loss: 0.6382, val loss: 1.0496, accuracy: 64.66%\n",
      "train loss: 0.6351, val loss: 1.0502, accuracy: 65.13%\n",
      "train loss: 0.6241, val loss: 1.0395, accuracy: 64.98%\n",
      "train loss: 0.6161, val loss: 1.0454, accuracy: 65.45%\n",
      "train loss: 0.6117, val loss: 1.0520, accuracy: 64.92%\n",
      "train loss: 0.6006, val loss: 1.0563, accuracy: 64.67%\n",
      "Final accuracy on testset: 65.57%\n"
     ]
    }
   ],
   "source": [
    "# SELU training\n",
    "network = CNN(out_features=10, use_selu=True).to(device)\n",
    "stl, svl, saccs, sacc = fit(network, trainloader, valloader, testloader, epochs, lr)"
   ],
   "metadata": {
    "collapsed": false,
    "pycharm": {
     "name": "#%%\n"
    }
   }
  },
  {
   "cell_type": "markdown",
   "source": [
    "### Plot results"
   ],
   "metadata": {
    "collapsed": false,
    "pycharm": {
     "name": "#%% md\n"
    }
   }
  },
  {
   "cell_type": "code",
   "execution_count": 10,
   "outputs": [
    {
     "data": {
      "text/plain": "<Figure size 432x288 with 1 Axes>",
      "image/png": "[encoded data removed]"
     },
     "metadata": {
      "needs_background": "light"
     },
     "output_type": "display_data"
    }
   ],
   "source": [
    "plt.figure()\n",
    "plt.plot(np.asarray(range(len(rtl))) / len(trainloader), rtl, alpha=0.4, label=\"ReLU train loss\")\n",
    "plt.plot(np.asarray(range(len(stl))) / len(trainloader), stl, alpha=0.4, label=\"SELU train loss\")\n",
    "plt.plot(range(len(rvl)), rvl, color=\"C0\", label=\"ReLU val loss\")\n",
    "plt.plot(range(len(svl)), svl, color=\"C1\", label=\"SELU val loss\")\n",
    "plt.title(\"Train and Validation loss over Epochs\")\n",
    "plt.xlabel(\"Epochs\")\n",
    "plt.ylabel(\"CELoss\")\n",
    "plt.yscale(\"log\")\n",
    "plt.legend()\n",
    "plt.show()"
   ],
   "metadata": {
    "collapsed": false,
    "pycharm": {
     "name": "#%%\n"
    }
   }
  },
  {
   "cell_type": "code",
   "execution_count": 11,
   "outputs": [
    {
     "data": {
      "text/plain": "<Figure size 432x288 with 1 Axes>",
      "image/png": "[encoded data removed]"
     },
     "metadata": {
      "needs_background": "light"
     },
     "output_type": "display_data"
    }
   ],
   "source": [
    "plt.figure()\n",
    "plt.plot(range(1, len(raccs)+1), [a*100 for a in raccs], label=\"ReLU val accuracy\")\n",
    "plt.hlines(y=racc*100, xmin=0, xmax=len(raccs), colors=\"C0\", linestyles=\"dashed\", label=\"ReLU test accuracy\")\n",
    "plt.plot(range(1, len(saccs)+1), [a*100 for a in saccs], label=\"SELU val accuracy\")\n",
    "plt.hlines(y=sacc*100, xmin=0, xmax=len(saccs), colors=\"C1\", linestyles=\"dashed\", label=\"SELU test accuracy\")\n",
    "plt.title(\"Validation Accuracy\")\n",
    "plt.xlabel(\"Epochs\")\n",
    "plt.ylabel(\"Accuracy\")\n",
    "\n",
    "plt.legend()\n",
    "plt.show()"
   ],
   "metadata": {
    "collapsed": false,
    "pycharm": {
     "name": "#%%\n"
    }
   }
  },
  {
   "cell_type": "code",
   "execution_count": 11,
   "outputs": [],
   "source": [],
   "metadata": {
    "collapsed": false,
    "pycharm": {
     "name": "#%%\n"
    }
   }
  }
 ],
 "metadata": {
  "kernelspec": {
   "name": "pycharm-91bfdd0f",
   "language": "python",
   "display_name": "PyCharm (SNNs)"
  },
  "language_info": {
   "codemirror_mode": {
    "name": "ipython",
    "version": 2
   },
   "file_extension": ".py",
   "mimetype": "text/x-python",
   "name": "python",
   "nbconvert_exporter": "python",
   "pygments_lexer": "ipython2",
   "version": "2.7.6"
  }
 },
 "nbformat": 4,
 "nbformat_minor": 0
}